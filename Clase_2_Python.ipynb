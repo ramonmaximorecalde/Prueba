{
  "nbformat": 4,
  "nbformat_minor": 0,
  "metadata": {
    "colab": {
      "provenance": [],
      "include_colab_link": true
    },
    "kernelspec": {
      "name": "python3",
      "display_name": "Python 3"
    },
    "language_info": {
      "name": "python"
    }
  },
  "cells": [
    {
      "cell_type": "markdown",
      "metadata": {
        "id": "view-in-github",
        "colab_type": "text"
      },
      "source": [
        "<a href=\"https://colab.research.google.com/github/ramonmaximorecalde/Prueba/blob/main/Clase_2_Python.ipynb\" target=\"_parent\"><img src=\"https://colab.research.google.com/assets/colab-badge.svg\" alt=\"Open In Colab\"/></a>"
      ]
    },
    {
      "cell_type": "markdown",
      "source": [
        "#**Atajos de Markdown en Google Colab** **(Bonus)**\n",
        "Atajos más comunes de Markdown para utilizar en **Google Colab**:"
      ],
      "metadata": {
        "id": "_eN4FBnugpXu"
      }
    },
    {
      "cell_type": "markdown",
      "source": [
        "#**Títulos**\n",
        "Para crear un título, debes colocar el número de signos # correspondiente al nivel del título, seguido de un espacio y el texto del título. \n",
        "**Por ejemplo:**\n",
        " \n",
        "# Título nivel 1\n",
        "## Título nivel 2\n",
        "### Título nivel 3"
      ],
      "metadata": {
        "id": "PfiVQ_39gqcS"
      }
    },
    {
      "cell_type": "markdown",
      "source": [
        "#**Negrita** y *cursiva*\n",
        "Para resaltar texto, puedes usar los asteriscos o guiones bajos. Si colocas uno a cada lado del texto, este se mostrará en cursiva. Si colocas dos, se mostrará en negrita. \n",
        "**Por ejemplo:**\n",
        "\n",
        "*Texto en cursiva*\n",
        "**Texto en negrita**"
      ],
      "metadata": {
        "id": "PK_9kXdMgqn-"
      }
    },
    {
      "cell_type": "markdown",
      "source": [
        "#**Listas**\n",
        "Para crear listas con viñetas, puedes usar un asterisco, un guion o un signo más seguido de un espacio. Para crear listas numeradas, simplemente coloca el número seguido de un punto y un espacio.\n",
        " **Por ejemplo:**\n",
        "\n",
        "- Elemento 1\n",
        "- Elemento 2\n",
        "- Elemento 3\n",
        "\n",
        "1. Elemento 1\n",
        "2. Elemento 2\n",
        "3. Elemento 3\n"
      ],
      "metadata": {
        "id": "3dyT0yZ5gqs-"
      }
    },
    {
      "cell_type": "markdown",
      "source": [
        "#**Enlaces e imágenes**\n",
        "Para insertar un enlace, debes encerrar el texto del enlace entre corchetes y la URL entre paréntesis. Para insertar una imagen, debes usar una sintaxis similar, pero precediendo la URL con un signo de exclamación. **Por ejemplo:**\n",
        "\n",
        "[Enlace a Google](https://www.google.com)\n",
        "![Imagen de un gato](https://upload.wikimedia.org/wikipedia/commons/3/3a/Cat03.jpg)\n"
      ],
      "metadata": {
        "id": "-G0xDqLggqyf"
      }
    },
    {
      "cell_type": "markdown",
      "source": [
        "#**Código**\n",
        "Para mostrar código, puedes encerrarlo entre comillas invertidas ` o crear bloques de código usando tres comillas invertidas al principio y al final. **Por ejemplo:**\n",
        "\n",
        "`print(\"Hola mundo\")`"
      ],
      "metadata": {
        "id": "fpzXD2-FhqRo"
      }
    },
    {
      "cell_type": "markdown",
      "source": [
        "#**Citas**\n",
        "Para citar texto, debes colocar el texto entre el signo de mayor que > y un espacio. Puedes anidar citas utilizando varios signos de mayor que. **Por ejemplo:**\n",
        "> Esto es una cita\n",
        ">> Esta es una cita anidada\n"
      ],
      "metadata": {
        "id": "bj_bZ8J7hq1C"
      }
    },
    {
      "cell_type": "code",
      "source": [
        "print(\"Hola mundo\")"
      ],
      "metadata": {
        "colab": {
          "base_uri": "https://localhost:8080/"
        },
        "id": "fYqvFL0aeP_-",
        "outputId": "d6c01591-bba1-44f1-a588-33e61678c173"
      },
      "execution_count": null,
      "outputs": [
        {
          "output_type": "stream",
          "name": "stdout",
          "text": [
            "Hola mundo\n"
          ]
        }
      ]
    },
    {
      "cell_type": "code",
      "source": [
        "nombre = \"juan\"\n",
        "apellido = \"campias\"\n",
        "print(nombre, apellido)"
      ],
      "metadata": {
        "colab": {
          "base_uri": "https://localhost:8080/"
        },
        "id": "EnJc9ZnFidna",
        "outputId": "a658a7d6-1f6e-4b50-fc43-590922f89e6a"
      },
      "execution_count": null,
      "outputs": [
        {
          "output_type": "stream",
          "name": "stdout",
          "text": [
            "juan campias\n"
          ]
        }
      ]
    },
    {
      "cell_type": "code",
      "source": [
        "print(\"hola mundo\", 4.5, False, end=\"\\n\")\n",
        "print(\"Hola\")"
      ],
      "metadata": {
        "colab": {
          "base_uri": "https://localhost:8080/"
        },
        "id": "EJf-A8ktk6WP",
        "outputId": "b51568ae-f009-49cd-95d7-d053dec5a1c4"
      },
      "execution_count": null,
      "outputs": [
        {
          "output_type": "stream",
          "name": "stdout",
          "text": [
            "hola mundo 4.5 False\n",
            "Hola\n"
          ]
        }
      ]
    },
    {
      "cell_type": "code",
      "source": [
        "nombre = \"juan\"\n",
        "apellido = \"campias\"\n",
        "print(nombre, apellido)"
      ],
      "metadata": {
        "colab": {
          "base_uri": "https://localhost:8080/"
        },
        "id": "a5--2lNzvLag",
        "outputId": "5419ac97-3b40-4bb5-c68f-7afea6b77218"
      },
      "execution_count": null,
      "outputs": [
        {
          "output_type": "stream",
          "name": "stdout",
          "text": [
            "juan campias\n"
          ]
        }
      ]
    },
    {
      "cell_type": "code",
      "source": [
        "input(\"Nombre: \")"
      ],
      "metadata": {
        "colab": {
          "base_uri": "https://localhost:8080/"
        },
        "id": "LxL46qiDvfbU",
        "outputId": "30efc57c-4bed-4e07-a2d0-8346287de58a"
      },
      "execution_count": null,
      "outputs": [
        {
          "name": "stdout",
          "output_type": "stream",
          "text": [
            "Nombre: juan\n"
          ]
        },
        {
          "output_type": "execute_result",
          "data": {
            "text/plain": [
              "str"
            ]
          },
          "metadata": {},
          "execution_count": 18
        }
      ]
    },
    {
      "cell_type": "code",
      "source": [
        "nombre = input(\"Nombre: \")\n",
        "apellido = input(\"Apellido: \")\n",
        "apellido_minus = apellido.lower()\n"
      ],
      "metadata": {
        "colab": {
          "base_uri": "https://localhost:8080/"
        },
        "id": "BeteVrFYvWgE",
        "outputId": "1279bf7c-bdac-4da9-ad99-90214252ee7f"
      },
      "execution_count": null,
      "outputs": [
        {
          "name": "stdout",
          "output_type": "stream",
          "text": [
            "Nombre: juan\n",
            "Apellido: CAMPIAS\n"
          ]
        }
      ]
    },
    {
      "cell_type": "code",
      "source": [
        "print(apellido)"
      ],
      "metadata": {
        "colab": {
          "base_uri": "https://localhost:8080/"
        },
        "id": "Xh4wjdAzxC-1",
        "outputId": "eecf3f3c-ee9b-4c6d-9586-38a9be9f64a0"
      },
      "execution_count": null,
      "outputs": [
        {
          "output_type": "stream",
          "name": "stdout",
          "text": [
            "CAMPIAS\n"
          ]
        }
      ]
    },
    {
      "cell_type": "code",
      "source": [
        "apellido.upper().count(\"S\")\n"
      ],
      "metadata": {
        "colab": {
          "base_uri": "https://localhost:8080/"
        },
        "id": "zgeczBFswwNV",
        "outputId": "eae0491f-1315-4ceb-c09e-30558e7abfe3"
      },
      "execution_count": null,
      "outputs": [
        {
          "output_type": "execute_result",
          "data": {
            "text/plain": [
              "int"
            ]
          },
          "metadata": {},
          "execution_count": 31
        }
      ]
    },
    {
      "cell_type": "code",
      "source": [
        "x = \"hola\"\n",
        "y = \" mundo\"\n",
        "\n",
        "print(x+y)"
      ],
      "metadata": {
        "colab": {
          "base_uri": "https://localhost:8080/"
        },
        "id": "rQLP3MinxbCS",
        "outputId": "2373a600-b4ba-4fe0-e42c-b42ee61890dd"
      },
      "execution_count": null,
      "outputs": [
        {
          "output_type": "stream",
          "name": "stdout",
          "text": [
            "hola mundo\n"
          ]
        }
      ]
    },
    {
      "cell_type": "markdown",
      "source": [
        "#**Actividades a resolver en clase:**\n",
        "##Act1: Calcular el área de un triángulo dado su base y altura. Pedir al usuario los valores de la base y la altura utilizando la función input(). Luego, calcular el área del triángulo e imprimir el resultado."
      ],
      "metadata": {
        "id": "ocGe7VgSiutn"
      }
    },
    {
      "cell_type": "code",
      "source": [
        "#Resolver ACT1 en esta celda.\n"
      ],
      "metadata": {
        "id": "fIWynBxjWvoy"
      },
      "execution_count": null,
      "outputs": []
    },
    {
      "cell_type": "markdown",
      "source": [
        "##Act2: Convertir una temperatura en grados Celsius a Fahrenheit. Pedir al usuario el valor de la temperatura en Celsius utilizando la función input(). Luego, convertir la temperatura a Fahrenheit utilizando la fórmula F = (C * 9/5) + 32 e imprimir el resultado."
      ],
      "metadata": {
        "id": "YYUMZTkIjHcc"
      }
    },
    {
      "cell_type": "code",
      "source": [
        "#Resolver ACT2 en esta celda."
      ],
      "metadata": {
        "id": "KFIBRoVHjGvT"
      },
      "execution_count": null,
      "outputs": []
    },
    {
      "cell_type": "markdown",
      "source": [
        "##Act3: Escribir un programa que pida al usuario dos números y muestre por pantalla su división si el segundo número es distinto de cero, o un mensaje de error en caso contrario."
      ],
      "metadata": {
        "id": "0eoq_tNYWv2-"
      }
    },
    {
      "cell_type": "code",
      "source": [
        "#Resolver ACT3 en esta celda."
      ],
      "metadata": {
        "id": "ZOrd2sOMyI_n"
      },
      "execution_count": null,
      "outputs": []
    },
    {
      "cell_type": "markdown",
      "source": [
        "##Act4: Realizar un programa que lea tres números distintos y nos los muestre ordenados de menor a mayor."
      ],
      "metadata": {
        "id": "_GhFfLFujkBE"
      }
    },
    {
      "cell_type": "code",
      "source": [
        "#Resolver ACT4 en esta celda."
      ],
      "metadata": {
        "id": "S3R25E61jmzq"
      },
      "execution_count": null,
      "outputs": []
    },
    {
      "cell_type": "markdown",
      "source": [
        "##Act5: Escribir un programa que lea una cadena de texto y muestre por pantalla cuántas veces aparece cada letra del alfabeto en la cadena. El programa debe ignorar los espacios y los caracteres no alfabéticos."
      ],
      "metadata": {
        "id": "P-OfAMYejkG0"
      }
    },
    {
      "cell_type": "code",
      "source": [
        "#Resolver ACT5 en esta celda."
      ],
      "metadata": {
        "id": "hLzmbXCiktG6"
      },
      "execution_count": null,
      "outputs": []
    },
    {
      "cell_type": "markdown",
      "source": [
        "##Act6: Escribir un programa que pida al usuario un número y muestre por pantalla su valor absoluto."
      ],
      "metadata": {
        "id": "_RjbqYe_jlAE"
      }
    },
    {
      "cell_type": "code",
      "source": [
        "#Resolver ACT6 en esta celda."
      ],
      "metadata": {
        "id": "99PiaHL0kt1t"
      },
      "execution_count": null,
      "outputs": []
    },
    {
      "cell_type": "markdown",
      "source": [
        "##Act7: Escribir un programa que pida al usuario una lista de números separados por comas y muestre por pantalla el producto de dichos números."
      ],
      "metadata": {
        "id": "59wVDzs_jlL8"
      }
    },
    {
      "cell_type": "code",
      "source": [
        "#Resolver ACT7 en esta celda."
      ],
      "metadata": {
        "id": "siHN4ochkyMj"
      },
      "execution_count": null,
      "outputs": []
    },
    {
      "cell_type": "markdown",
      "source": [
        "##Act8: Escribir un programa que pida al usuario una lista de palabras y las muestre por pantalla ordenadas alfabéticamente."
      ],
      "metadata": {
        "id": "K6j2wj94kz0U"
      }
    },
    {
      "cell_type": "code",
      "source": [
        "#Resolver ACT8 en esta celda."
      ],
      "metadata": {
        "id": "UwaDnytqkz6z"
      },
      "execution_count": null,
      "outputs": []
    }
  ]
}